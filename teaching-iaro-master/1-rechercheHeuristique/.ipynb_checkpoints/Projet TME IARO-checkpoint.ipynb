{
 "cells": [
  {
   "cell_type": "markdown",
   "metadata": {},
   "source": [
    "# Sujet de TME - Projet\n",
    "\n",
    "\n",
    "\n"
   ]
  },
  {
   "cell_type": "markdown",
   "metadata": {
    "collapsed": true
   },
   "source": [
    "## Environnement \n",
    "\n",
    "Vous utiliserez le module <code>PySpriteWorld</code> qui élabore <code>pygame</code> et permet de manipuler simplement des personnages, cartes, et autres objets à l'écran. \n",
    "\n",
    "\n",
    "**Note**: on fait ici l'hypothèse que toutes les informations (positions des agents et des trésors sont disponibles pour tous les agents, i.e. on ne se pose pas de problème de communication)\n",
    "\n",
    "## Plus courts chemins\n",
    "\n",
    "Sur une carte labyrinthique sont disposés des trésors (des fioles précieuses). \n",
    "\n",
    "### Un agent\n",
    "\n",
    "On s'intéresse tout d'abord à une situation où un seul agent doit trouver un plus court chemin de sa position à un seul trésor. \n",
    " > Vous implémenterez l'algorithme $A^*$ permettant de trouver le plus court chemin sur la grille, en tenant évidemment compte des obstacles. \n",
    "\n",
    "### Plusieurs agents\n",
    "\n",
    "On considère à présent la situation où $n$ agents et $n$ agents sont sur la carte. \n",
    "Chaque agent doit alors calculer l'ensemble des plus courts chemins pour aller, depuis sa position, à tous les objectifs présents sur la carte.\n",
    "\n",
    "En supposant que les agents commencent leur déplacement au même moment, et qu'ils se déplacent à la même vitesse.  Vous étudierez plusieurs méthodes permettant à chaque agent de choisir quel trésor aller chercher, sachant que les autres agents cherchent également à atteindre le trésor le plus proche, etc. Par exemple, si un agent vise l'objectif $o_1$, mais qu'un autre agent est plus proche que lui de $o_1$, il est sand doute préférable de viser un autre objectif...\n",
    "Vous comparerez les méthodes suivantes: \n",
    "* **(1) les enchères répétées**: on imagine ici que les trésors font des enchères en demandant aux agents en combien de temps ils peuvent les atteindre. Le trésor qui obtient la meilleure offre parmi tous les agents choisi cet agent. Puis le processus est répété sans le trésor et l'agent qui ont été sélectionné à cette étape. \n",
    "* **(2) dynamique de meilleure réponse**: chaque agent choisit initialement le trésor qui est le plus proche pour lui. \n",
    "A chaque itération suivante, les agents choisissent la meilleure réponse aux choix des autres agents, en considérant que: si deux agents choisissent le même trésor, ils risquent de se disputer le trésor et d'obtenir un gain nul. La meilleure réponse est donc le trésor le plus proche non sélectionné par un autre agent. Le processus se répète jusqu'à obtenir un état stable, ou à détecter une situation cyclique si cela peut se produire. \n",
    "\n",
    "> Vous coderez et analyserez les méthodes (1) et (2) décrites ci-dessus. En particulier, vous chercherez à évaluer les appariemment obtenus selon les critères vus dans la première partie du cours (efficacité, équité). \n",
    "\n",
    "* (optionnel) **méthode centralisée d'appariemment**: de minimiser la somme globale des longeurs des chemins parcourus par les agents. \n",
    "\n",
    "\n",
    "### Rencontres entre les agents\n",
    "\n",
    "On suppose maintenant que les agents peuvent se rencontrer lors de leur parcours. \n",
    "La rencontre peut se produire si les deux agents portent des trésors. Notons $t_1$ la quantité de trésor de l'agent 1, et $t_2$ la quantité de trésor de l'agent 2. \n",
    "On note $t_j = min(t_1,t_2)$ la quantité de potion qui est mise en jeu à chaque rencontre. \n",
    "A chaque rencontre, les deux agents jouent un jeu pour lequel ils ont deux actions possibles à jouer: \n",
    "* **voler** l'autre agent,  \n",
    "* **discuter** avec lui. \n",
    "\n",
    "Si les deux agents tentent de se voler l'un l'autre, ils cassent des fiolent dans la bataille: chaque agent se retrouve avec $0.5  t_1$ et $0.5 t_2$. \n",
    "S'ils discutent, ils se rendent compte qu'ils peuvent mélanger leur produit afin d'obtenir une potion encore plus magique. Dans ce cas, leur gain devient $t_j + 0.5 t_j$. \n",
    "Si $A$ vole $B$ vole l'autre, il repart avec $t_A + t_j$ tandis que $B$ aura $t_B - t_j$. \n",
    "\n",
    "Par exemple, supposons que l'agent $A$ qui possède 2 rencontre l'agent $B$ qui possède 4. \n",
    "Il y a donc 2 unités de potion en jeu ici. \n",
    "Si les deux discutent, ils repartent avec $3$ chacun. Si $A$ vole $B$, il part avec $2=2=4$ tandis $B$ part avec $4-2 = 2$. Si $B$ vole $A$ il part avec $4+2=6$ et $A$ avec $2-2=0$. Enfin, si les deux essayent de voler ils partent avec respectivement $0$ pour $A$ et $2$ pour $B$.  \n",
    "\n",
    "\n",
    "\n",
    "Les stratégies des agents sont donc définissables à deux niveaux:\n",
    "* les **stratégies d'interaction**, ie. faut-il voler ou discuter?, qui peuvent être par exemple des séquences prédéfinies, et peuvent dépendre ou non de l'identité de l'agent rencontré. \n",
    "* les **stratégie de parcours**, puisqu'il peut être intéressant dans ce jeu de parfois délaisser les trésors pour rencontrer les autres agents. Rappelez vous cependant qu'un agent sans aucun trésor ne peut pas jouer avec d'autres agents. \n",
    "\n",
    "> La dynamique du jeu devra permettre l'apparition d'un nouveau trésor à chaque fois qu'un est ramassé par les agents.\n",
    "Vous évaluerez les stratégies de votre choix en présentant de manière synthétique vos résultats. \n"
   ]
  },
  {
   "cell_type": "markdown",
   "metadata": {},
   "source": []
  },
  {
   "cell_type": "code",
   "execution_count": null,
   "metadata": {
    "collapsed": true
   },
   "outputs": [],
   "source": []
  }
 ],
 "metadata": {
  "kernelspec": {
   "display_name": "Python 3",
   "language": "python",
   "name": "python3"
  },
  "language_info": {
   "codemirror_mode": {
    "name": "ipython",
    "version": 3
   },
   "file_extension": ".py",
   "mimetype": "text/x-python",
   "name": "python",
   "nbconvert_exporter": "python",
   "pygments_lexer": "ipython3",
   "version": "3.5.1"
  }
 },
 "nbformat": 4,
 "nbformat_minor": 0
}
